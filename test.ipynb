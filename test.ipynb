{
 "cells": [
  {
   "cell_type": "code",
   "execution_count": 1,
   "metadata": {},
   "outputs": [],
   "source": [
    "from supabase import create_client, Client\n",
    "from decouple import config"
   ]
  },
  {
   "cell_type": "code",
   "execution_count": 2,
   "metadata": {},
   "outputs": [],
   "source": [
    "SUPABASE_URL = config('SUPABASE_URL')\n",
    "SUPABASE_KEY = config('SUPABASE_ANON_KEY')\n"
   ]
  },
  {
   "cell_type": "code",
   "execution_count": 3,
   "metadata": {},
   "outputs": [],
   "source": [
    "supabase = create_client(SUPABASE_URL, SUPABASE_KEY)"
   ]
  },
  {
   "cell_type": "code",
   "execution_count": 4,
   "metadata": {},
   "outputs": [],
   "source": [
    "from gotrue import SignUpWithEmailAndPasswordCredentials"
   ]
  },
  {
   "cell_type": "code",
   "execution_count": 5,
   "metadata": {},
   "outputs": [],
   "source": [
    "credentials = SignUpWithEmailAndPasswordCredentials(\n",
    "    email = \"pankh.09b@gmail.com\",\n",
    "    password = \"test@123\"\n",
    "    )\n"
   ]
  },
  {
   "cell_type": "code",
   "execution_count": 6,
   "metadata": {},
   "outputs": [
    {
     "data": {
      "text/plain": [
       "dict"
      ]
     },
     "execution_count": 6,
     "metadata": {},
     "output_type": "execute_result"
    }
   ],
   "source": [
    "type(credentials)"
   ]
  },
  {
   "cell_type": "code",
   "execution_count": 24,
   "metadata": {},
   "outputs": [
    {
     "name": "stderr",
     "output_type": "stream",
     "text": [
      "2023-12-31 01:02:42,312:INFO - HTTP Request: POST https://clfdysmwypbvjfhuimyz.supabase.co/auth/v1/signup \"HTTP/1.1 200 OK\"\n"
     ]
    }
   ],
   "source": [
    "user = supabase.auth.sign_up(credentials=credentials)"
   ]
  },
  {
   "cell_type": "code",
   "execution_count": 26,
   "metadata": {},
   "outputs": [
    {
     "data": {
      "text/plain": [
       "{'user': {'id': '38df0570-88a5-4d0b-854e-95f910db323e',\n",
       "  'app_metadata': {'provider': 'email', 'providers': ['email']},\n",
       "  'user_metadata': {},\n",
       "  'aud': 'authenticated',\n",
       "  'confirmation_sent_at': datetime.datetime(2023, 12, 30, 19, 32, 41, 915074, tzinfo=TzInfo(UTC)),\n",
       "  'recovery_sent_at': None,\n",
       "  'email_change_sent_at': None,\n",
       "  'new_email': None,\n",
       "  'invited_at': None,\n",
       "  'action_link': None,\n",
       "  'email': 'pankh.09b@gmail.com',\n",
       "  'phone': '',\n",
       "  'created_at': datetime.datetime(2023, 12, 30, 19, 32, 41, 915074, tzinfo=TzInfo(UTC)),\n",
       "  'confirmed_at': None,\n",
       "  'email_confirmed_at': None,\n",
       "  'phone_confirmed_at': None,\n",
       "  'last_sign_in_at': None,\n",
       "  'role': 'authenticated',\n",
       "  'updated_at': datetime.datetime(2023, 12, 30, 19, 32, 41, 915074, tzinfo=TzInfo(UTC)),\n",
       "  'identities': [],\n",
       "  'factors': None},\n",
       " 'session': None}"
      ]
     },
     "execution_count": 26,
     "metadata": {},
     "output_type": "execute_result"
    }
   ],
   "source": [
    "user.model_dump()"
   ]
  },
  {
   "cell_type": "code",
   "execution_count": 7,
   "metadata": {},
   "outputs": [
    {
     "name": "stderr",
     "output_type": "stream",
     "text": [
      "2023-12-31 01:13:58,062:INFO - HTTP Request: POST https://clfdysmwypbvjfhuimyz.supabase.co/auth/v1/token?grant_type=password \"HTTP/1.1 200 OK\"\n"
     ]
    }
   ],
   "source": [
    "user = supabase.auth.sign_in_with_password(credentials=credentials)"
   ]
  },
  {
   "cell_type": "code",
   "execution_count": 8,
   "metadata": {},
   "outputs": [],
   "source": [
    "access_token = user.session.access_token"
   ]
  },
  {
   "cell_type": "code",
   "execution_count": 9,
   "metadata": {},
   "outputs": [],
   "source": [
    "user_id = user.user.id  # Extract the user ID from the logged-in user\n",
    "feedback_text = \"This is a sample feedback.\""
   ]
  },
  {
   "cell_type": "code",
   "execution_count": 10,
   "metadata": {},
   "outputs": [],
   "source": [
    "data = {\n",
    "        \"user_id\": user_id,\n",
    "        \"feedback_text\": feedback_text\n",
    "    }"
   ]
  },
  {
   "cell_type": "code",
   "execution_count": 12,
   "metadata": {},
   "outputs": [
    {
     "name": "stdout",
     "output_type": "stream",
     "text": [
      "eyJhbGciOiJIUzI1NiIsImtpZCI6InZ5V0NCdlBsVmNkWGQ3RkkiLCJ0eXAiOiJKV1QifQ.eyJhdWQiOiJhdXRoZW50aWNhdGVkIiwiZXhwIjoxNzAzOTY5MDM3LCJpYXQiOjE3MDM5NjU0MzcsImlzcyI6Imh0dHBzOi8vY2xmZHlzbXd5cGJ2amZodWlteXouc3VwYWJhc2UuY28vYXV0aC92MSIsInN1YiI6IjM4YWM4ZmMyLTZiMDAtNDI1ZS1hZWZlLWQzMjZlYWM2MGY3MyIsImVtYWlsIjoicGFua2guMDliQGdtYWlsLmNvbSIsInBob25lIjoiIiwiYXBwX21ldGFkYXRhIjp7InByb3ZpZGVyIjoiZW1haWwiLCJwcm92aWRlcnMiOlsiZW1haWwiXX0sInVzZXJfbWV0YWRhdGEiOnt9LCJyb2xlIjoiYXV0aGVudGljYXRlZCIsImFhbCI6ImFhbDEiLCJhbXIiOlt7Im1ldGhvZCI6InBhc3N3b3JkIiwidGltZXN0YW1wIjoxNzAzOTY1NDM3fV0sInNlc3Npb25faWQiOiJlMWZmMWMwNC1iZmNiLTQwM2ItYjRiNi05MGVkMzU3MDAwN2UifQ.-5h06Czn5MEGoQtu6Bs1iW5PXhgzETjLyyoswTG0GFc\n"
     ]
    }
   ],
   "source": [
    "print(access_token)"
   ]
  },
  {
   "cell_type": "code",
   "execution_count": 13,
   "metadata": {},
   "outputs": [
    {
     "name": "stderr",
     "output_type": "stream",
     "text": [
      "2023-12-31 01:15:45,135:INFO - HTTP Request: GET https://clfdysmwypbvjfhuimyz.supabase.co/auth/v1/user \"HTTP/1.1 200 OK\"\n"
     ]
    }
   ],
   "source": [
    "res = supabase.auth.set_session(\n",
    "        user.session.access_token, user.session.refresh_token\n",
    "    )"
   ]
  },
  {
   "cell_type": "code",
   "execution_count": 14,
   "metadata": {},
   "outputs": [
    {
     "name": "stderr",
     "output_type": "stream",
     "text": [
      "2023-12-31 01:18:49,143:INFO - HTTP Request: POST https://clfdysmwypbvjfhuimyz.supabase.co/rest/v1/user_feedback \"HTTP/1.1 201 Created\"\n"
     ]
    },
    {
     "name": "stderr",
     "output_type": "stream",
     "text": [
      "2023-12-31 02:13:47,511:INFO - HTTP Request: POST https://clfdysmwypbvjfhuimyz.supabase.co/auth/v1/token?grant_type=refresh_token \"HTTP/1.1 200 OK\"\n",
      "2023-12-31 02:13:47,586:INFO - HTTP Request: POST https://clfdysmwypbvjfhuimyz.supabase.co/auth/v1/token?grant_type=refresh_token \"HTTP/1.1 200 OK\"\n"
     ]
    }
   ],
   "source": [
    "supabase.postgrest.auth(\n",
    "    # verified that this was real\n",
    "    token=access_token\n",
    ")  # this sets the right \"authorization\" header on HTTP requests to PostgREST\n",
    "res = (\n",
    "    supabase.table(\"user_feedback\")\n",
    "    .insert(\n",
    "        data\n",
    "    )\n",
    "    .execute()\n",
    ")"
   ]
  },
  {
   "cell_type": "code",
   "execution_count": null,
   "metadata": {},
   "outputs": [],
   "source": []
  }
 ],
 "metadata": {
  "kernelspec": {
   "display_name": ".venv",
   "language": "python",
   "name": "python3"
  },
  "language_info": {
   "codemirror_mode": {
    "name": "ipython",
    "version": 3
   },
   "file_extension": ".py",
   "mimetype": "text/x-python",
   "name": "python",
   "nbconvert_exporter": "python",
   "pygments_lexer": "ipython3",
   "version": "3.10.11"
  }
 },
 "nbformat": 4,
 "nbformat_minor": 2
}
